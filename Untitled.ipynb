{
 "cells": [
  {
   "cell_type": "code",
   "execution_count": 1,
   "metadata": {},
   "outputs": [
    {
     "name": "stderr",
     "output_type": "stream",
     "text": [
      "Using TensorFlow backend.\n",
      "2021-07-30 18:52:36.832428: I tensorflow/core/platform/cpu_feature_guard.cc:142] Your CPU supports instructions that this TensorFlow binary was not compiled to use: AVX2 FMA\n",
      "2021-07-30 18:52:36.844938: I tensorflow/compiler/xla/service/service.cc:168] XLA service 0x7fadd7cd62c0 initialized for platform Host (this does not guarantee that XLA will be used). Devices:\n",
      "2021-07-30 18:52:36.844967: I tensorflow/compiler/xla/service/service.cc:176]   StreamExecutor device (0): Host, Default Version\n"
     ]
    }
   ],
   "source": [
    "from alfabet import model\n",
    "from alfabet.model import model, preprocessor"
   ]
  },
  {
   "cell_type": "code",
   "execution_count": 2,
   "metadata": {},
   "outputs": [],
   "source": [
    "import numpy as np\n",
    "import pandas as pd\n",
    "from alfabet.fragment import fragment_iterator\n",
    "from alfabet.preprocessor_utils import ConcatGraphSequence"
   ]
  },
  {
   "cell_type": "code",
   "execution_count": 3,
   "metadata": {},
   "outputs": [],
   "source": [
    "smiles_list = ('C1=CC(=C(C=C1C2=C(C(=O)C3=C(C=C(C=C3O2)O)O)O)O)O')\n",
    "batch_size=128"
   ]
  },
  {
   "cell_type": "code",
   "execution_count": 4,
   "metadata": {},
   "outputs": [
    {
     "name": "stderr",
     "output_type": "stream",
     "text": [
      "  0%|                                                                                                                                                                                         | 0/48 [00:00<?, ?it/s]RDKit ERROR: [18:52:42] SMILES Parse Error: syntax error while parsing: 1\n",
      "[18:52:42] SMILES Parse Error: syntax error while parsing: 1\n",
      "RDKit ERROR: [18:52:42] SMILES Parse Error: Failed parsing SMILES '1' for input: '1'\n",
      "  2%|███▋                                                                                                                                                                           | 1/48 [00:00<00:00, 1133.90it/s][18:52:42] SMILES Parse Error: Failed parsing SMILES '1' for input: '1'\n",
      "\n"
     ]
    },
    {
     "ename": "ArgumentError",
     "evalue": "Python argument types in\n    rdkit.Chem.rdmolops.AddHs(NoneType)\ndid not match C++ signature:\n    AddHs(RDKit::ROMol mol, bool explicitOnly=False, bool addCoords=False, boost::python::api::object onlyOnAtoms=None, bool addResidueInfo=False)",
     "output_type": "error",
     "traceback": [
      "\u001b[0;31m---------------------------------------------------------------------------\u001b[0m",
      "\u001b[0;31mArgumentError\u001b[0m                             Traceback (most recent call last)",
      "\u001b[0;32m/var/folders/qx/p_6cdgj17k97_x2sf_r5_wvr0000gn/T/ipykernel_12362/3300964571.py\u001b[0m in \u001b[0;36m<module>\u001b[0;34m\u001b[0m\n\u001b[1;32m     26\u001b[0m \u001b[0;34m\u001b[0m\u001b[0m\n\u001b[1;32m     27\u001b[0m \u001b[0;31m# Process the smiles list into graph representations\u001b[0m\u001b[0;34m\u001b[0m\u001b[0;34m\u001b[0m\u001b[0m\n\u001b[0;32m---> 28\u001b[0;31m \u001b[0minputs\u001b[0m \u001b[0;34m=\u001b[0m \u001b[0mpreprocessor\u001b[0m\u001b[0;34m.\u001b[0m\u001b[0mpredict\u001b[0m\u001b[0;34m(\u001b[0m\u001b[0msmiles_list\u001b[0m\u001b[0;34m)\u001b[0m\u001b[0;34m\u001b[0m\u001b[0m\n\u001b[0m\u001b[1;32m     29\u001b[0m \u001b[0;34m\u001b[0m\u001b[0m\n\u001b[1;32m     30\u001b[0m \u001b[0;31m# Predict the inputs with the neural network\u001b[0m\u001b[0;34m\u001b[0m\u001b[0;34m\u001b[0m\u001b[0m\n",
      "\u001b[0;32m~/opt/anaconda3/envs/alfabet37/lib/python3.7/site-packages/nfp/preprocessing/preprocessor.py\u001b[0m in \u001b[0;36mpredict\u001b[0;34m(self, smiles_iterator, verbose)\u001b[0m\n\u001b[1;32m     58\u001b[0m         bond classes commute with previously determined results. \"\"\"\n\u001b[1;32m     59\u001b[0m         return list(self.preprocess(smiles_iterator, train=False,\n\u001b[0;32m---> 60\u001b[0;31m                                     verbose=verbose))\n\u001b[0m\u001b[1;32m     61\u001b[0m \u001b[0;34m\u001b[0m\u001b[0m\n\u001b[1;32m     62\u001b[0m \u001b[0;34m\u001b[0m\u001b[0m\n",
      "\u001b[0;32m~/opt/anaconda3/envs/alfabet37/lib/python3.7/site-packages/nfp/preprocessing/preprocessor.py\u001b[0m in \u001b[0;36mpreprocess\u001b[0;34m(self, smiles_iterator, train, verbose)\u001b[0m\n\u001b[1;32m     67\u001b[0m \u001b[0;34m\u001b[0m\u001b[0m\n\u001b[1;32m     68\u001b[0m         \u001b[0;32mfor\u001b[0m \u001b[0msmiles\u001b[0m \u001b[0;32min\u001b[0m \u001b[0mtqdm\u001b[0m\u001b[0;34m(\u001b[0m\u001b[0msmiles_iterator\u001b[0m\u001b[0;34m,\u001b[0m \u001b[0mdisable\u001b[0m\u001b[0;34m=\u001b[0m\u001b[0;32mnot\u001b[0m \u001b[0mverbose\u001b[0m\u001b[0;34m)\u001b[0m\u001b[0;34m:\u001b[0m\u001b[0;34m\u001b[0m\u001b[0m\n\u001b[0;32m---> 69\u001b[0;31m             \u001b[0;32myield\u001b[0m \u001b[0mself\u001b[0m\u001b[0;34m.\u001b[0m\u001b[0mconstruct_feature_matrices\u001b[0m\u001b[0;34m(\u001b[0m\u001b[0msmiles\u001b[0m\u001b[0;34m)\u001b[0m\u001b[0;34m\u001b[0m\u001b[0m\n\u001b[0m\u001b[1;32m     70\u001b[0m \u001b[0;34m\u001b[0m\u001b[0m\n\u001b[1;32m     71\u001b[0m \u001b[0;34m\u001b[0m\u001b[0m\n",
      "\u001b[0;32m~/PycharmProjects/alfabet/alfabet/preprocessor_utils.py\u001b[0m in \u001b[0;36mconstruct_feature_matrices\u001b[0;34m(self, smiles)\u001b[0m\n\u001b[1;32m     21\u001b[0m         \u001b[0mmol\u001b[0m \u001b[0;34m=\u001b[0m \u001b[0mMolFromSmiles\u001b[0m\u001b[0;34m(\u001b[0m\u001b[0msmiles\u001b[0m\u001b[0;34m)\u001b[0m\u001b[0;34m\u001b[0m\u001b[0m\n\u001b[1;32m     22\u001b[0m         \u001b[0;32mif\u001b[0m \u001b[0mself\u001b[0m\u001b[0;34m.\u001b[0m\u001b[0mexplicit_hs\u001b[0m\u001b[0;34m:\u001b[0m\u001b[0;34m\u001b[0m\u001b[0m\n\u001b[0;32m---> 23\u001b[0;31m             \u001b[0mmol\u001b[0m \u001b[0;34m=\u001b[0m \u001b[0mAddHs\u001b[0m\u001b[0;34m(\u001b[0m\u001b[0mmol\u001b[0m\u001b[0;34m)\u001b[0m\u001b[0;34m\u001b[0m\u001b[0m\n\u001b[0m\u001b[1;32m     24\u001b[0m \u001b[0;34m\u001b[0m\u001b[0m\n\u001b[1;32m     25\u001b[0m         \u001b[0mn_atom\u001b[0m \u001b[0;34m=\u001b[0m \u001b[0mlen\u001b[0m\u001b[0;34m(\u001b[0m\u001b[0mmol\u001b[0m\u001b[0;34m.\u001b[0m\u001b[0mGetAtoms\u001b[0m\u001b[0;34m(\u001b[0m\u001b[0;34m)\u001b[0m\u001b[0;34m)\u001b[0m\u001b[0;34m\u001b[0m\u001b[0m\n",
      "\u001b[0;31mArgumentError\u001b[0m: Python argument types in\n    rdkit.Chem.rdmolops.AddHs(NoneType)\ndid not match C++ signature:\n    AddHs(RDKit::ROMol mol, bool explicitOnly=False, bool addCoords=False, boost::python::api::object onlyOnAtoms=None, bool addResidueInfo=False)"
     ]
    }
   ],
   "source": [
    "def check_valid(iinput):\n",
    "    \"\"\" Check the given SMILES to ensure it's present in the model's\n",
    "    preprocessor dictionary.\n",
    "\n",
    "    Returns:\n",
    "    (is_outlier, missing_atom, missing_bond)\n",
    "\n",
    "    \"\"\"\n",
    "\n",
    "    missing_bond = np.array(\n",
    "        list(set(iinput['bond_indices'][iinput['bond'] == 1])))\n",
    "    missing_atom = np.arange(iinput['n_atom'])[iinput['atom'] == 1]\n",
    "\n",
    "    is_outlier = bool((missing_bond.size != 0) | (missing_atom.size != 0))\n",
    "\n",
    "    return not is_outlier\n",
    "\n",
    "def inputs_to_dataframe(smiles, inputs):\n",
    "    molecule = np.repeat(np.array(smiles), np.stack([iinput['n_bond'] for iinput in inputs]))\n",
    "    bond_index = np.concatenate([iinput['bond_indices'] for iinput in inputs])\n",
    "    input_df = pd.DataFrame(np.vstack([molecule, bond_index]).T,\n",
    "                            columns=['molecule', 'bond_index'])\n",
    "    input_df['bond_index'] = input_df.bond_index.astype('int64')\n",
    "\n",
    "    return input_df\n",
    "\n",
    "# Process the smiles list into graph representations\n",
    "inputs = preprocessor.predict(smiles_list)\n",
    "\n",
    "# Predict the inputs with the neural network\n",
    "pred = model.predict_generator(\n",
    "    ConcatGraphSequence(inputs, batch_size=batch_size, shuffle=False), verbose=0)"
   ]
  },
  {
   "cell_type": "code",
   "execution_count": null,
   "metadata": {},
   "outputs": [],
   "source": [
    "    bde_df = inputs_to_dataframe(smiles_list, inputs)\n",
    "    bde_df['bde_pred'] = pred\n",
    "    bde_df = bde_df.groupby(['molecule',\n",
    "                             'bond_index']).bde_pred.mean().reset_index()\n",
    "\n",
    "    # Check mols for preprocessor class presence in training data\n",
    "    valid_mols = pd.Series([check_valid(iinput) for iinput in inputs],\n",
    "                           dtype=bool, index=smiles_list, name='is_valid')\n",
    "    bde_df = bde_df.merge(valid_mols, left_on='molecule', right_index=True,\n",
    "                          how='left')\n",
    "\n",
    "    # Seperately fragment the molecules to find their valid bonds\n",
    "    def smiles_fragment_iterator():\n",
    "        for smiles in smiles_list:\n",
    "            for row in fragment_iterator(smiles):\n",
    "                yield row\n",
    "\n",
    "    frag_df = pd.DataFrame(smiles_fragment_iterator())\n",
    "    pred_df = frag_df.merge(bde_df, on=['molecule', 'bond_index'], how='left')"
   ]
  },
  {
   "cell_type": "code",
   "execution_count": null,
   "metadata": {},
   "outputs": [],
   "source": [
    "pred_df"
   ]
  },
  {
   "cell_type": "code",
   "execution_count": 6,
   "metadata": {},
   "outputs": [
    {
     "name": "stderr",
     "output_type": "stream",
     "text": [
      "100%|█████████████████████████████████████████████████████████████████████████████████████████████████████████████████████████████████████████████████████████████████████████████████| 1/1 [00:00<00:00, 864.45it/s]"
     ]
    },
    {
     "name": "stdout",
     "output_type": "stream",
     "text": [
      "\r",
      "1/1 [==============================] - 0s 7ms/step\n"
     ]
    },
    {
     "name": "stderr",
     "output_type": "stream",
     "text": [
      "\n",
      "[Parallel(n_jobs=-1)]: Using backend LokyBackend with 16 concurrent workers.\n",
      "[18:54:55] WARNING: not removing hydrogen atom without neighbors\n",
      "[18:54:55] WARNING: not removing hydrogen atom without neighbors\n",
      "[18:54:55] WARNING: not removing hydrogen atom without neighbors\n",
      "[18:54:55] WARNING: not removing hydrogen atom without neighbors\n",
      "[18:54:55] WARNING: not removing hydrogen atom without neighbors\n",
      "[18:54:55] WARNING: not removing hydrogen atom without neighbors\n",
      "[18:54:55] WARNING: not removing hydrogen atom without neighbors\n",
      "[18:54:55] WARNING: not removing hydrogen atom without neighbors\n",
      "[18:54:55] WARNING: not removing hydrogen atom without neighbors\n",
      "[18:54:55] WARNING: not removing hydrogen atom without neighbors\n",
      "[18:54:55] WARNING: not removing hydrogen atom without neighbors\n",
      "[18:54:55] WARNING: not removing hydrogen atom without neighbors\n",
      "[18:54:55] WARNING: not removing hydrogen atom without neighbors\n",
      "[18:54:55] WARNING: not removing hydrogen atom without neighbors\n",
      "[18:54:55] WARNING: not removing hydrogen atom without neighbors\n",
      "[18:54:55] WARNING: not removing hydrogen atom without neighbors\n",
      "[18:54:55] WARNING: not removing hydrogen atom without neighbors\n",
      "[18:54:55] WARNING: not removing hydrogen atom without neighbors\n",
      "[18:54:55] WARNING: not removing hydrogen atom without neighbors\n",
      "[18:54:55] WARNING: not removing hydrogen atom without neighbors\n",
      "[18:54:55] WARNING: not removing hydrogen atom without neighbors\n",
      "[18:54:55] WARNING: not removing hydrogen atom without neighbors\n",
      "[18:54:55] WARNING: not removing hydrogen atom without neighbors\n",
      "[18:54:55] WARNING: not removing hydrogen atom without neighbors\n",
      "[Parallel(n_jobs=-1)]: Done   1 tasks      | elapsed:    1.0s\n",
      "[Parallel(n_jobs=-1)]: Done   1 out of   1 | elapsed:    1.0s finished\n",
      "/Users/goazumahiroaki/PycharmProjects/alfabet/alfabet/model.py:130: FutureWarning: In a future version of pandas all arguments of DataFrame.drop except for the argument 'labels' will be keyword-only\n",
      "  return pred_df.drop('index', 1)\n"
     ]
    },
    {
     "data": {
      "text/html": [
       "<div>\n",
       "<style scoped>\n",
       "    .dataframe tbody tr th:only-of-type {\n",
       "        vertical-align: middle;\n",
       "    }\n",
       "\n",
       "    .dataframe tbody tr th {\n",
       "        vertical-align: top;\n",
       "    }\n",
       "\n",
       "    .dataframe thead th {\n",
       "        text-align: right;\n",
       "    }\n",
       "</style>\n",
       "<table border=\"1\" class=\"dataframe\">\n",
       "  <thead>\n",
       "    <tr style=\"text-align: right;\">\n",
       "      <th></th>\n",
       "      <th>molecule</th>\n",
       "      <th>bond_index</th>\n",
       "      <th>bond_type</th>\n",
       "      <th>fragment1</th>\n",
       "      <th>fragment2</th>\n",
       "      <th>delta_assigned_stereo</th>\n",
       "      <th>delta_unassigned_stereo</th>\n",
       "      <th>bde_pred</th>\n",
       "      <th>is_valid</th>\n",
       "    </tr>\n",
       "  </thead>\n",
       "  <tbody>\n",
       "    <tr>\n",
       "      <th>0</th>\n",
       "      <td>CC1=CC=CC=C1</td>\n",
       "      <td>0</td>\n",
       "      <td>C-C</td>\n",
       "      <td>[CH3]</td>\n",
       "      <td>[c]1ccccc1</td>\n",
       "      <td>0</td>\n",
       "      <td>0</td>\n",
       "      <td>102.949684</td>\n",
       "      <td>True</td>\n",
       "    </tr>\n",
       "    <tr>\n",
       "      <th>1</th>\n",
       "      <td>CC1=CC=CC=C1</td>\n",
       "      <td>7</td>\n",
       "      <td>C-H</td>\n",
       "      <td>[H]</td>\n",
       "      <td>[CH2]c1ccccc1</td>\n",
       "      <td>0</td>\n",
       "      <td>0</td>\n",
       "      <td>89.875534</td>\n",
       "      <td>True</td>\n",
       "    </tr>\n",
       "    <tr>\n",
       "      <th>2</th>\n",
       "      <td>CC1=CC=CC=C1</td>\n",
       "      <td>10</td>\n",
       "      <td>C-H</td>\n",
       "      <td>[H]</td>\n",
       "      <td>Cc1[c]cccc1</td>\n",
       "      <td>0</td>\n",
       "      <td>0</td>\n",
       "      <td>110.927040</td>\n",
       "      <td>True</td>\n",
       "    </tr>\n",
       "    <tr>\n",
       "      <th>3</th>\n",
       "      <td>CC1=CC=CC=C1</td>\n",
       "      <td>11</td>\n",
       "      <td>C-H</td>\n",
       "      <td>[H]</td>\n",
       "      <td>Cc1c[c]ccc1</td>\n",
       "      <td>0</td>\n",
       "      <td>0</td>\n",
       "      <td>110.926376</td>\n",
       "      <td>True</td>\n",
       "    </tr>\n",
       "    <tr>\n",
       "      <th>4</th>\n",
       "      <td>CC1=CC=CC=C1</td>\n",
       "      <td>12</td>\n",
       "      <td>C-H</td>\n",
       "      <td>[H]</td>\n",
       "      <td>Cc1cc[c]cc1</td>\n",
       "      <td>0</td>\n",
       "      <td>0</td>\n",
       "      <td>111.345917</td>\n",
       "      <td>True</td>\n",
       "    </tr>\n",
       "  </tbody>\n",
       "</table>\n",
       "</div>"
      ],
      "text/plain": [
       "       molecule  bond_index bond_type fragment1      fragment2  \\\n",
       "0  CC1=CC=CC=C1           0       C-C     [CH3]     [c]1ccccc1   \n",
       "1  CC1=CC=CC=C1           7       C-H       [H]  [CH2]c1ccccc1   \n",
       "2  CC1=CC=CC=C1          10       C-H       [H]    Cc1[c]cccc1   \n",
       "3  CC1=CC=CC=C1          11       C-H       [H]    Cc1c[c]ccc1   \n",
       "4  CC1=CC=CC=C1          12       C-H       [H]    Cc1cc[c]cc1   \n",
       "\n",
       "   delta_assigned_stereo  delta_unassigned_stereo    bde_pred  is_valid  \n",
       "0                      0                        0  102.949684      True  \n",
       "1                      0                        0   89.875534      True  \n",
       "2                      0                        0  110.927040      True  \n",
       "3                      0                        0  110.926376      True  \n",
       "4                      0                        0  111.345917      True  "
      ]
     },
     "execution_count": 6,
     "metadata": {},
     "output_type": "execute_result"
    }
   ],
   "source": [
    "from alfabet import model\n",
    "model.predict(['CC1=CC=CC=C1'])"
   ]
  },
  {
   "cell_type": "code",
   "execution_count": null,
   "metadata": {},
   "outputs": [],
   "source": []
  },
  {
   "cell_type": "code",
   "execution_count": null,
   "metadata": {},
   "outputs": [],
   "source": []
  }
 ],
 "metadata": {
  "kernelspec": {
   "display_name": "Python 3 (ipykernel)",
   "language": "python",
   "name": "python3"
  },
  "language_info": {
   "codemirror_mode": {
    "name": "ipython",
    "version": 3
   },
   "file_extension": ".py",
   "mimetype": "text/x-python",
   "name": "python",
   "nbconvert_exporter": "python",
   "pygments_lexer": "ipython3",
   "version": "3.7.0"
  }
 },
 "nbformat": 4,
 "nbformat_minor": 2
}
